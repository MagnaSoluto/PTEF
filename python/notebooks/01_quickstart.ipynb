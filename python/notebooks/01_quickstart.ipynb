{
  "cells": [
    {
      "cell_type": "markdown",
      "metadata": {},
      "source": [
        "# PTEF - Quickstart\n",
        "\n",
        "Este notebook demonstra o uso básico do PTEF (Pronunciation-Time Estimation Framework) para estimar o tempo de pronúncia de sequências numéricas em português brasileiro.\n",
        "\n",
        "## Objetivos\n",
        "- Demonstrar estimação básica para N=1000\n",
        "- Mostrar componentes da estimação\n",
        "- Visualizar crescimento do tempo com N\n"
      ]
    },
    {
      "cell_type": "code",
      "execution_count": null,
      "metadata": {},
      "outputs": [],
      "source": [
        "import sys\n",
        "import os\n",
        "sys.path.append(os.path.join('..', 'src'))\n",
        "\n",
        "import ptef\n",
        "import matplotlib.pyplot as plt\n",
        "import numpy as np\n",
        "import pandas as pd\n",
        "\n",
        "# Configurar matplotlib para português\n",
        "plt.rcParams['font.size'] = 12\n",
        "plt.rcParams['figure.figsize'] = (10, 6)\n"
      ]
    },
    {
      "cell_type": "markdown",
      "metadata": {},
      "source": [
        "## 1. Estimação Básica para N=1000\n",
        "\n",
        "Vamos estimar o tempo de pronúncia para números de 1 a 1000.\n"
      ]
    },
    {
      "cell_type": "code",
      "execution_count": null,
      "metadata": {},
      "outputs": [],
      "source": [
        "# Estimação para N=1000\n",
        "N = 1000\n",
        "result = ptef.estimate(N=N, policy=\"R1\", B=16, return_ci=True)\n",
        "\n",
        "print(f\"PTEF Estimação para N={N}\")\n",
        "print(f\"Tempo esperado: {result['mean']:.3f} segundos\")\n",
        "print(f\"Variância: {result['var']:.6f} segundos²\")\n",
        "print(f\"Desvio padrão: {np.sqrt(result['var']):.3f} segundos\")\n",
        "\n",
        "if 'ci95' in result:\n",
        "    ci = result['ci95']\n",
        "    print(f\"Intervalo de confiança 95%: [{ci['lower']:.3f}, {ci['upper']:.3f}] segundos\")\n"
      ]
    }
  ],
  "metadata": {
    "language_info": {
      "name": "python"
    }
  },
  "nbformat": 4,
  "nbformat_minor": 2
}
